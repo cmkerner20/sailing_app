{
 "cells": [
  {
   "cell_type": "code",
   "execution_count": 1,
   "metadata": {},
   "outputs": [],
   "source": [
    "# am i even able to do this with random data generate??"
   ]
  },
  {
   "cell_type": "code",
   "execution_count": 73,
   "metadata": {},
   "outputs": [],
   "source": [
    "import numpy as np\n",
    "import pandas as pd\n",
    "import torch"
   ]
  },
  {
   "cell_type": "code",
   "execution_count": 174,
   "metadata": {},
   "outputs": [],
   "source": [
    "np.random.seed(4)"
   ]
  },
  {
   "cell_type": "code",
   "execution_count": 175,
   "metadata": {},
   "outputs": [],
   "source": [
    "a = (np.random.rand(100,60) * 10 //1).astype(int)\n"
   ]
  },
  {
   "cell_type": "code",
   "execution_count": 176,
   "metadata": {},
   "outputs": [
    {
     "data": {
      "text/plain": [
       "(100, 60, 10)"
      ]
     },
     "execution_count": 176,
     "metadata": {},
     "output_type": "execute_result"
    }
   ],
   "source": [
    "nval = int(np.max(a) + 1)\n",
    "y = np.eye(nval)[a]\n",
    "y.shape"
   ]
  },
  {
   "cell_type": "code",
   "execution_count": null,
   "metadata": {},
   "outputs": [],
   "source": []
  },
  {
   "cell_type": "code",
   "execution_count": null,
   "metadata": {},
   "outputs": [],
   "source": []
  },
  {
   "cell_type": "code",
   "execution_count": 177,
   "metadata": {},
   "outputs": [],
   "source": [
    "X = np.random.rand(100,60,4)\n",
    "# y = np.random.rand(100, 60, 10)\n",
    "# y = y * 10 // 1"
   ]
  },
  {
   "cell_type": "code",
   "execution_count": 178,
   "metadata": {},
   "outputs": [
    {
     "data": {
      "text/plain": [
       "((100, 60, 4), (100, 60, 10))"
      ]
     },
     "execution_count": 178,
     "metadata": {},
     "output_type": "execute_result"
    }
   ],
   "source": [
    "X.shape, y.shape"
   ]
  },
  {
   "cell_type": "code",
   "execution_count": 179,
   "metadata": {},
   "outputs": [],
   "source": [
    "X = torch.Tensor(X)\n",
    "y = torch.Tensor(y) #.long()"
   ]
  },
  {
   "cell_type": "code",
   "execution_count": 241,
   "metadata": {},
   "outputs": [],
   "source": [
    "from torch.utils.data import Dataset\n",
    "class SailingData(Dataset):\n",
    "    def __init__ (self, tracks):\n",
    "        self.samples = [X, y]\n",
    "    \n",
    "            \n",
    "    def __len__(self):\n",
    "        return len(self.samples)\n",
    "    \n",
    "    def __getitem__(self, idx):\n",
    "            return(self.samples[idx])"
   ]
  },
  {
   "cell_type": "code",
   "execution_count": 263,
   "metadata": {},
   "outputs": [],
   "source": [
    "import torch.nn as nn\n",
    "import torch.nn.functional as F\n",
    "\n",
    "\n",
    "class Net(nn.Module):\n",
    "    def __init__(self):\n",
    "        super(Net, self).__init__()\n",
    "\n",
    "        self.lstm1 = nn.GRU(batch_first= True, input_size = 4, hidden_size = 5, bidirectional= True, dropout = 0.9)\n",
    "#         self.fcn1 = nn.Linear(128, 512)\n",
    "#         self.fcn2 = nn.Linear(512, 512)\n",
    "#         self.fcn3 = nn.Linear(512, 10)\n",
    "        \n",
    "        self.softmax = nn.Softmax(dim=2)\n",
    "\n",
    "    def forward(self, x):\n",
    "\n",
    "        x, h = self.lstm1(x)\n",
    "#         print('SHAPE')\n",
    "#         print(x.shape, h.shape)\n",
    "\n",
    "\n",
    "#         x = F.relu(self.fcn1(x))\n",
    "#         x = F.dropout(x, p = 0.5)\n",
    "#         x = F.relu(self.fcn2(x))\n",
    "#         x = F.dropout(x, p = 0.5)\n",
    "#         x = F.relu(self.fcn3(x))\n",
    "#         x = F.dropout(x, p = 0.9)\n",
    "#         x =x.squeeze(1)\n",
    "  \n",
    "        \n",
    "        x = self.softmax(x)\n",
    "        \n",
    "        return x\n"
   ]
  },
  {
   "cell_type": "code",
   "execution_count": 264,
   "metadata": {},
   "outputs": [],
   "source": [
    "import torch.optim as optim\n",
    "\n",
    "net = Net()\n",
    "\n"
   ]
  },
  {
   "cell_type": "code",
   "execution_count": 269,
   "metadata": {},
   "outputs": [],
   "source": [
    "criterion = nn.MSELoss()\n",
    "optimizer = optim.Adam(net.parameters(), lr=0.005)"
   ]
  },
  {
   "cell_type": "code",
   "execution_count": 270,
   "metadata": {},
   "outputs": [
    {
     "name": "stdout",
     "output_type": "stream",
     "text": [
      "Epoch:  0 Loss:  0.08990278095006943 Accuracy: 0.11966666666666667\n",
      "Epoch:  50 Loss:  0.08982151001691818 Accuracy: 0.12783333333333333\n",
      "Epoch:  100 Loss:  0.08973867446184158 Accuracy: 0.12833333333333333\n",
      "Epoch:  150 Loss:  0.08967475593090057 Accuracy: 0.1295\n",
      "Epoch:  200 Loss:  0.08962226659059525 Accuracy: 0.1335\n",
      "Epoch:  250 Loss:  0.08957895636558533 Accuracy: 0.14\n",
      "Epoch:  300 Loss:  0.08952275663614273 Accuracy: 0.147\n",
      "Epoch:  350 Loss:  0.0894814059138298 Accuracy: 0.146\n",
      "Epoch:  400 Loss:  0.08946670591831207 Accuracy: 0.14883333333333335\n",
      "Epoch:  450 Loss:  0.0894773080945015 Accuracy: 0.14583333333333334\n",
      "Epoch:  500 Loss:  0.08943205326795578 Accuracy: 0.1485\n",
      "Epoch:  550 Loss:  0.08943679928779602 Accuracy: 0.15016666666666667\n",
      "Epoch:  600 Loss:  0.08939075469970703 Accuracy: 0.15016666666666667\n",
      "Epoch:  650 Loss:  0.0893702507019043 Accuracy: 0.15266666666666667\n",
      "Epoch:  700 Loss:  0.08935242146253586 Accuracy: 0.15283333333333332\n",
      "Epoch:  750 Loss:  0.08933639526367188 Accuracy: 0.15516666666666667\n",
      "Epoch:  800 Loss:  0.08931330591440201 Accuracy: 0.15516666666666667\n",
      "Epoch:  850 Loss:  0.08936262130737305 Accuracy: 0.15166666666666667\n",
      "Epoch:  900 Loss:  0.08931563049554825 Accuracy: 0.1535\n",
      "Epoch:  950 Loss:  0.08930599689483643 Accuracy: 0.15333333333333332\n",
      "Epoch:  1000 Loss:  0.08928442746400833 Accuracy: 0.15283333333333332\n",
      "Epoch:  1050 Loss:  0.08927905559539795 Accuracy: 0.15083333333333335\n",
      "Epoch:  1100 Loss:  0.08927344530820847 Accuracy: 0.14933333333333335\n",
      "Epoch:  1150 Loss:  0.08927647024393082 Accuracy: 0.15233333333333332\n",
      "Epoch:  1200 Loss:  0.08933786302804947 Accuracy: 0.14966666666666667\n",
      "Epoch:  1250 Loss:  0.0892237052321434 Accuracy: 0.15616666666666668\n",
      "Epoch:  1300 Loss:  0.08924192935228348 Accuracy: 0.15516666666666667\n",
      "Epoch:  1350 Loss:  0.08920590579509735 Accuracy: 0.15833333333333333\n",
      "Epoch:  1400 Loss:  0.08922361582517624 Accuracy: 0.15733333333333333\n",
      "Epoch:  1450 Loss:  0.08920227736234665 Accuracy: 0.15433333333333332\n",
      "Epoch:  1500 Loss:  0.08919215202331543 Accuracy: 0.15883333333333333\n",
      "Epoch:  1550 Loss:  0.08919147402048111 Accuracy: 0.1545\n",
      "Epoch:  1600 Loss:  0.08916153758764267 Accuracy: 0.15883333333333333\n",
      "Epoch:  1650 Loss:  0.08916325867176056 Accuracy: 0.15933333333333333\n",
      "Epoch:  1700 Loss:  0.08921953290700912 Accuracy: 0.15533333333333332\n",
      "Epoch:  1750 Loss:  0.08915385603904724 Accuracy: 0.15816666666666668\n",
      "Epoch:  1800 Loss:  0.08915744721889496 Accuracy: 0.15766666666666668\n",
      "Epoch:  1850 Loss:  0.08917281776666641 Accuracy: 0.155\n",
      "Epoch:  1900 Loss:  0.08911837637424469 Accuracy: 0.1595\n",
      "Epoch:  1950 Loss:  0.08914893865585327 Accuracy: 0.15783333333333333\n",
      "Epoch:  2000 Loss:  0.08930150419473648 Accuracy: 0.15133333333333332\n",
      "Epoch:  2050 Loss:  0.08921795338392258 Accuracy: 0.15366666666666667\n",
      "Epoch:  2100 Loss:  0.08915558457374573 Accuracy: 0.16016666666666668\n",
      "Epoch:  2150 Loss:  0.089150071144104 Accuracy: 0.1555\n",
      "Epoch:  2200 Loss:  0.08911479264497757 Accuracy: 0.1595\n",
      "Epoch:  2250 Loss:  0.08908696472644806 Accuracy: 0.16\n",
      "Epoch:  2300 Loss:  0.08909383416175842 Accuracy: 0.16266666666666665\n",
      "Epoch:  2350 Loss:  0.08909647166728973 Accuracy: 0.16083333333333333\n",
      "Epoch:  2400 Loss:  0.089114710688591 Accuracy: 0.16083333333333333\n",
      "Epoch:  2450 Loss:  0.08914051204919815 Accuracy: 0.1605\n",
      "Epoch:  2500 Loss:  0.08907584100961685 Accuracy: 0.16133333333333333\n",
      "Epoch:  2550 Loss:  0.08913859724998474 Accuracy: 0.15866666666666668\n",
      "Epoch:  2600 Loss:  0.0891113355755806 Accuracy: 0.1625\n",
      "Epoch:  2650 Loss:  0.08911556750535965 Accuracy: 0.1565\n",
      "Epoch:  2700 Loss:  0.08905784040689468 Accuracy: 0.164\n",
      "Epoch:  2750 Loss:  0.0890926867723465 Accuracy: 0.16066666666666668\n",
      "Epoch:  2800 Loss:  0.08916229009628296 Accuracy: 0.15816666666666668\n",
      "Epoch:  2850 Loss:  0.08912630379199982 Accuracy: 0.15783333333333333\n",
      "Epoch:  2900 Loss:  0.08911139518022537 Accuracy: 0.16033333333333333\n",
      "Epoch:  2950 Loss:  0.08904553204774857 Accuracy: 0.16416666666666666\n",
      "Epoch:  3000 Loss:  0.08906896412372589 Accuracy: 0.16533333333333333\n",
      "Epoch:  3050 Loss:  0.08914449065923691 Accuracy: 0.1605\n",
      "Epoch:  3100 Loss:  0.08902205526828766 Accuracy: 0.16466666666666666\n",
      "Epoch:  3150 Loss:  0.08912570774555206 Accuracy: 0.16116666666666668\n",
      "Epoch:  3200 Loss:  0.08902397751808167 Accuracy: 0.164\n",
      "Epoch:  3250 Loss:  0.08906357735395432 Accuracy: 0.167\n",
      "Epoch:  3300 Loss:  0.08901912719011307 Accuracy: 0.16533333333333333\n",
      "Epoch:  3350 Loss:  0.08907800912857056 Accuracy: 0.16183333333333333\n",
      "Epoch:  3400 Loss:  0.08901529014110565 Accuracy: 0.16566666666666666\n",
      "Epoch:  3450 Loss:  0.08921512216329575 Accuracy: 0.15716666666666668\n",
      "Epoch:  3500 Loss:  0.0890345573425293 Accuracy: 0.16366666666666665\n",
      "Epoch:  3550 Loss:  0.08905252814292908 Accuracy: 0.161\n",
      "Epoch:  3600 Loss:  0.08911082148551941 Accuracy: 0.1565\n",
      "Epoch:  3650 Loss:  0.08903108537197113 Accuracy: 0.16216666666666665\n",
      "Epoch:  3700 Loss:  0.08900869637727737 Accuracy: 0.16766666666666666\n",
      "Epoch:  3750 Loss:  0.0891154408454895 Accuracy: 0.1605\n",
      "Epoch:  3800 Loss:  0.08899010717868805 Accuracy: 0.1685\n",
      "Epoch:  3850 Loss:  0.0890844464302063 Accuracy: 0.16516666666666666\n",
      "Epoch:  3900 Loss:  0.08906523138284683 Accuracy: 0.16\n",
      "Epoch:  3950 Loss:  0.08903202414512634 Accuracy: 0.16433333333333333\n",
      "Epoch:  4000 Loss:  0.08901741355657578 Accuracy: 0.16433333333333333\n",
      "Epoch:  4050 Loss:  0.08932586014270782 Accuracy: 0.15216666666666667\n",
      "Epoch:  4100 Loss:  0.08915509283542633 Accuracy: 0.15833333333333333\n",
      "Epoch:  4150 Loss:  0.08897645026445389 Accuracy: 0.16816666666666666\n",
      "Epoch:  4200 Loss:  0.08899777382612228 Accuracy: 0.168\n",
      "Epoch:  4250 Loss:  0.08898475766181946 Accuracy: 0.16683333333333333\n",
      "Epoch:  4300 Loss:  0.08896356076002121 Accuracy: 0.16883333333333334\n",
      "Epoch:  4350 Loss:  0.08905115723609924 Accuracy: 0.16516666666666666\n",
      "Epoch:  4400 Loss:  0.08896228671073914 Accuracy: 0.17033333333333334\n",
      "Epoch:  4450 Loss:  0.08899572491645813 Accuracy: 0.16633333333333333\n",
      "Epoch:  4500 Loss:  0.08904150873422623 Accuracy: 0.16466666666666666\n",
      "Epoch:  4550 Loss:  0.08926360309123993 Accuracy: 0.15783333333333333\n",
      "Epoch:  4600 Loss:  0.08900373429059982 Accuracy: 0.16916666666666666\n",
      "Epoch:  4650 Loss:  0.08897355198860168 Accuracy: 0.1705\n",
      "Epoch:  4700 Loss:  0.08900664001703262 Accuracy: 0.1665\n",
      "Epoch:  4750 Loss:  0.08895228803157806 Accuracy: 0.17\n",
      "Epoch:  4800 Loss:  0.08896587044000626 Accuracy: 0.16883333333333334\n",
      "Epoch:  4850 Loss:  0.0891023650765419 Accuracy: 0.16083333333333333\n",
      "Epoch:  4900 Loss:  0.08903490751981735 Accuracy: 0.16266666666666665\n",
      "Epoch:  4950 Loss:  0.08908074349164963 Accuracy: 0.163\n",
      "Epoch:  5000 Loss:  0.08898437023162842 Accuracy: 0.1685\n",
      "Epoch:  5050 Loss:  0.08905888348817825 Accuracy: 0.16016666666666668\n",
      "Epoch:  5100 Loss:  0.0890103280544281 Accuracy: 0.16816666666666666\n",
      "Epoch:  5150 Loss:  0.08896573632955551 Accuracy: 0.1675\n",
      "Epoch:  5200 Loss:  0.08913476020097733 Accuracy: 0.16166666666666665\n",
      "Epoch:  5250 Loss:  0.08907407522201538 Accuracy: 0.16266666666666665\n",
      "Epoch:  5300 Loss:  0.08920716494321823 Accuracy: 0.15633333333333332\n",
      "Epoch:  5350 Loss:  0.08898840844631195 Accuracy: 0.1695\n",
      "Epoch:  5400 Loss:  0.08901216089725494 Accuracy: 0.16683333333333333\n",
      "Epoch:  5450 Loss:  0.08907652646303177 Accuracy: 0.161\n",
      "Epoch:  5500 Loss:  0.08915611356496811 Accuracy: 0.15716666666666668\n",
      "Epoch:  5550 Loss:  0.0890522450208664 Accuracy: 0.167\n",
      "Epoch:  5600 Loss:  0.08896983414888382 Accuracy: 0.1675\n",
      "Epoch:  5650 Loss:  0.08893785625696182 Accuracy: 0.17083333333333334\n",
      "Epoch:  5700 Loss:  0.08899469673633575 Accuracy: 0.16583333333333333\n",
      "Epoch:  5750 Loss:  0.08901359885931015 Accuracy: 0.16783333333333333\n",
      "Epoch:  5800 Loss:  0.08906341344118118 Accuracy: 0.16216666666666665\n",
      "Epoch:  5850 Loss:  0.08895187079906464 Accuracy: 0.17183333333333334\n",
      "Epoch:  5900 Loss:  0.08952660113573074 Accuracy: 0.14566666666666667\n",
      "Epoch:  5950 Loss:  0.08918335288763046 Accuracy: 0.15666666666666668\n",
      "Epoch:  6000 Loss:  0.08918137103319168 Accuracy: 0.1625\n",
      "Epoch:  6050 Loss:  0.08909741044044495 Accuracy: 0.15833333333333333\n",
      "Epoch:  6100 Loss:  0.08900472521781921 Accuracy: 0.16433333333333333\n",
      "Epoch:  6150 Loss:  0.0889626070857048 Accuracy: 0.1725\n",
      "Epoch:  6200 Loss:  0.08973947912454605 Accuracy: 0.13566666666666666\n"
     ]
    },
    {
     "name": "stdout",
     "output_type": "stream",
     "text": [
      "Epoch:  6250 Loss:  0.08929558843374252 Accuracy: 0.154\n",
      "Epoch:  6300 Loss:  0.08909087628126144 Accuracy: 0.16316666666666665\n",
      "Epoch:  6350 Loss:  0.08908672630786896 Accuracy: 0.16283333333333333\n",
      "Epoch:  6400 Loss:  0.08904595673084259 Accuracy: 0.163\n",
      "Epoch:  6450 Loss:  0.0890280157327652 Accuracy: 0.1675\n",
      "Epoch:  6500 Loss:  0.08915328234434128 Accuracy: 0.16033333333333333\n",
      "Epoch:  6550 Loss:  0.08896508812904358 Accuracy: 0.17\n",
      "Epoch:  6600 Loss:  0.08968890458345413 Accuracy: 0.13733333333333334\n",
      "Epoch:  6650 Loss:  0.08934866636991501 Accuracy: 0.15066666666666667\n",
      "Epoch:  6700 Loss:  0.0891098827123642 Accuracy: 0.16133333333333333\n",
      "Epoch:  6750 Loss:  0.08910102397203445 Accuracy: 0.1645\n",
      "Epoch:  6800 Loss:  0.08902524411678314 Accuracy: 0.16783333333333333\n",
      "Epoch:  6850 Loss:  0.08893447369337082 Accuracy: 0.17416666666666666\n",
      "Epoch:  6900 Loss:  0.08896291255950928 Accuracy: 0.172\n",
      "Epoch:  6950 Loss:  0.08926824480295181 Accuracy: 0.15483333333333332\n",
      "Epoch:  7000 Loss:  0.08903245627880096 Accuracy: 0.168\n",
      "Epoch:  7050 Loss:  0.08903080970048904 Accuracy: 0.1645\n",
      "Epoch:  7100 Loss:  0.08891324698925018 Accuracy: 0.17183333333333334\n",
      "Epoch:  7150 Loss:  0.08915117383003235 Accuracy: 0.16616666666666666\n",
      "Epoch:  7200 Loss:  0.08902323246002197 Accuracy: 0.16933333333333334\n",
      "Epoch:  7250 Loss:  0.08903447538614273 Accuracy: 0.17116666666666666\n",
      "Epoch:  7300 Loss:  0.08915290236473083 Accuracy: 0.15833333333333333\n",
      "Epoch:  7350 Loss:  0.08890417963266373 Accuracy: 0.17566666666666667\n",
      "Epoch:  7400 Loss:  0.0889253318309784 Accuracy: 0.17233333333333334\n",
      "Epoch:  7450 Loss:  0.08914197236299515 Accuracy: 0.163\n",
      "Epoch:  7500 Loss:  0.08898910135030746 Accuracy: 0.16716666666666666\n",
      "Epoch:  7550 Loss:  0.08896269649267197 Accuracy: 0.16966666666666666\n",
      "Epoch:  7600 Loss:  0.08889330178499222 Accuracy: 0.17433333333333334\n",
      "Epoch:  7650 Loss:  0.0891040712594986 Accuracy: 0.16316666666666665\n",
      "Epoch:  7700 Loss:  0.08901835232973099 Accuracy: 0.16566666666666666\n",
      "Epoch:  7750 Loss:  0.08899056166410446 Accuracy: 0.16816666666666666\n",
      "Epoch:  7800 Loss:  0.0889742523431778 Accuracy: 0.16683333333333333\n",
      "Epoch:  7850 Loss:  0.08899934589862823 Accuracy: 0.16666666666666666\n",
      "Epoch:  7900 Loss:  0.08894963562488556 Accuracy: 0.16966666666666666\n",
      "Epoch:  7950 Loss:  0.08905907720327377 Accuracy: 0.1685\n",
      "Epoch:  8000 Loss:  0.08906694501638412 Accuracy: 0.16583333333333333\n",
      "Epoch:  8050 Loss:  0.08902950584888458 Accuracy: 0.169\n",
      "Epoch:  8100 Loss:  0.08906609565019608 Accuracy: 0.16366666666666665\n",
      "Epoch:  8150 Loss:  0.08909332752227783 Accuracy: 0.16566666666666666\n",
      "Epoch:  8200 Loss:  0.08910418301820755 Accuracy: 0.163\n",
      "Epoch:  8250 Loss:  0.08891736716032028 Accuracy: 0.17066666666666666\n",
      "Epoch:  8300 Loss:  0.08889874070882797 Accuracy: 0.17416666666666666\n",
      "Epoch:  8350 Loss:  0.08892033249139786 Accuracy: 0.17\n",
      "Epoch:  8400 Loss:  0.08915145695209503 Accuracy: 0.16333333333333333\n",
      "Epoch:  8450 Loss:  0.08909332752227783 Accuracy: 0.166\n",
      "Epoch:  8500 Loss:  0.08892343938350677 Accuracy: 0.17033333333333334\n",
      "Epoch:  8550 Loss:  0.08943185210227966 Accuracy: 0.14733333333333334\n",
      "Epoch:  8600 Loss:  0.08918895572423935 Accuracy: 0.162\n",
      "Epoch:  8650 Loss:  0.08890786021947861 Accuracy: 0.17183333333333334\n",
      "Epoch:  8700 Loss:  0.08887417614459991 Accuracy: 0.17233333333333334\n",
      "Epoch:  8750 Loss:  0.08920278400182724 Accuracy: 0.1625\n",
      "Epoch:  8800 Loss:  0.08897829055786133 Accuracy: 0.16816666666666666\n",
      "Epoch:  8850 Loss:  0.08893890678882599 Accuracy: 0.171\n",
      "Epoch:  8900 Loss:  0.08892868459224701 Accuracy: 0.17016666666666666\n",
      "Epoch:  8950 Loss:  0.08904077857732773 Accuracy: 0.165\n",
      "Epoch:  9000 Loss:  0.0889730453491211 Accuracy: 0.17\n",
      "Epoch:  9050 Loss:  0.08909162133932114 Accuracy: 0.16216666666666665\n",
      "Epoch:  9100 Loss:  0.08897633105516434 Accuracy: 0.1705\n",
      "Epoch:  9150 Loss:  0.08893395960330963 Accuracy: 0.17116666666666666\n",
      "Epoch:  9200 Loss:  0.08962416648864746 Accuracy: 0.14983333333333335\n",
      "Epoch:  9250 Loss:  0.08915555477142334 Accuracy: 0.15983333333333333\n",
      "Epoch:  9300 Loss:  0.0891171246767044 Accuracy: 0.1605\n",
      "Epoch:  9350 Loss:  0.08915718644857407 Accuracy: 0.16\n",
      "Epoch:  9400 Loss:  0.0891360193490982 Accuracy: 0.15683333333333332\n",
      "Epoch:  9450 Loss:  0.08916816860437393 Accuracy: 0.15983333333333333\n",
      "Epoch:  9500 Loss:  0.08906891196966171 Accuracy: 0.16033333333333333\n",
      "Epoch:  9550 Loss:  0.08925636857748032 Accuracy: 0.157\n",
      "Epoch:  9600 Loss:  0.08905231207609177 Accuracy: 0.15933333333333333\n",
      "Epoch:  9650 Loss:  0.0893249437212944 Accuracy: 0.15966666666666668\n",
      "Epoch:  9700 Loss:  0.08900433033704758 Accuracy: 0.167\n",
      "Epoch:  9750 Loss:  0.08888450264930725 Accuracy: 0.17183333333333334\n",
      "Epoch:  9800 Loss:  0.08893381804227829 Accuracy: 0.17133333333333334\n",
      "Epoch:  9850 Loss:  0.08897553384304047 Accuracy: 0.16816666666666666\n",
      "Epoch:  9900 Loss:  0.08895883709192276 Accuracy: 0.17\n",
      "Epoch:  9950 Loss:  0.08897552639245987 Accuracy: 0.17166666666666666\n"
     ]
    }
   ],
   "source": [
    "for epoch in range(10000):\n",
    "    \n",
    "    optimizer.zero_grad()\n",
    "    \n",
    "    running_loss = 0.0\n",
    "    outputs = net(X)\n",
    "\n",
    "    loss = criterion(outputs, y)\n",
    "    loss.backward()\n",
    "    optimizer.step()\n",
    "    running_loss += loss.item()\n",
    "\n",
    "    \n",
    "    \n",
    "    if epoch % 50== 0: \n",
    "        \n",
    "        o1 = (outputs.detach().argmax(2).flatten())\n",
    "        o2 = y.argmax(2).flatten()\n",
    "        acc = accuracy_score(o1, o2)\n",
    "        print(\"Epoch: \", epoch, \"Loss: \", running_loss, \"Accuracy:\", acc) "
   ]
  },
  {
   "cell_type": "code",
   "execution_count": null,
   "metadata": {},
   "outputs": [],
   "source": [
    "4500 epochs = 0.45"
   ]
  },
  {
   "cell_type": "code",
   "execution_count": 199,
   "metadata": {},
   "outputs": [
    {
     "data": {
      "text/plain": [
       "0.12916666666666668"
      ]
     },
     "execution_count": 199,
     "metadata": {},
     "output_type": "execute_result"
    }
   ],
   "source": [
    "o1 = (outputs.detach().argmax(2).flatten())\n",
    "o2 = y.argmax(2).flatten()\n",
    "accuracy_score(o1, o2)"
   ]
  },
  {
   "cell_type": "code",
   "execution_count": 252,
   "metadata": {},
   "outputs": [
    {
     "data": {
      "text/plain": [
       "('torch.FloatTensor', 'torch.FloatTensor')"
      ]
     },
     "execution_count": 252,
     "metadata": {},
     "output_type": "execute_result"
    }
   ],
   "source": [
    "X.type(), y.type()"
   ]
  },
  {
   "cell_type": "code",
   "execution_count": 253,
   "metadata": {},
   "outputs": [],
   "source": [
    "from sklearn.metrics import accuracy_score"
   ]
  },
  {
   "cell_type": "code",
   "execution_count": 147,
   "metadata": {},
   "outputs": [],
   "source": [
    "from collections import Counter"
   ]
  },
  {
   "cell_type": "code",
   "execution_count": null,
   "metadata": {},
   "outputs": [],
   "source": [
    "Counter(np.array(y))"
   ]
  },
  {
   "cell_type": "code",
   "execution_count": 394,
   "metadata": {},
   "outputs": [
    {
     "data": {
      "text/plain": [
       "tensor([8, 9, 8, 9, 9, 9, 9, 9, 9, 9, 9, 3, 9, 9, 9, 8, 9, 9, 9, 9, 8, 9, 9, 9,\n",
       "        7, 9, 9, 9, 9, 9, 9, 9, 9, 5, 4, 9, 8, 4, 9, 9, 9, 9, 9, 9, 9, 9, 2, 8,\n",
       "        9, 9, 9, 9, 9, 8, 9, 9, 9, 9, 9, 9, 9, 9, 9, 9, 9, 9, 9, 9, 9, 9, 9, 9,\n",
       "        9, 9, 9, 9, 9, 9, 8, 9, 9, 9, 9, 9, 9, 9, 9, 9, 1, 9, 9, 9, 9, 8, 3, 9,\n",
       "        9, 9, 9, 9])"
      ]
     },
     "execution_count": 394,
     "metadata": {},
     "output_type": "execute_result"
    }
   ],
   "source": [
    "outputs.detach().argmax(1)"
   ]
  },
  {
   "cell_type": "code",
   "execution_count": 93,
   "metadata": {},
   "outputs": [
    {
     "data": {
      "text/plain": [
       "torch.Size([100, 60, 10])"
      ]
     },
     "execution_count": 93,
     "metadata": {},
     "output_type": "execute_result"
    }
   ],
   "source": [
    "outputs.shape"
   ]
  },
  {
   "cell_type": "code",
   "execution_count": 94,
   "metadata": {},
   "outputs": [
    {
     "data": {
      "text/plain": [
       "torch.Size([100, 10])"
      ]
     },
     "execution_count": 94,
     "metadata": {},
     "output_type": "execute_result"
    }
   ],
   "source": [
    "y.shape"
   ]
  },
  {
   "cell_type": "code",
   "execution_count": null,
   "metadata": {},
   "outputs": [],
   "source": []
  }
 ],
 "metadata": {
  "kernelspec": {
   "display_name": "Python 3",
   "language": "python",
   "name": "python3"
  },
  "language_info": {
   "codemirror_mode": {
    "name": "ipython",
    "version": 3
   },
   "file_extension": ".py",
   "mimetype": "text/x-python",
   "name": "python",
   "nbconvert_exporter": "python",
   "pygments_lexer": "ipython3",
   "version": "3.7.7"
  }
 },
 "nbformat": 4,
 "nbformat_minor": 4
}
