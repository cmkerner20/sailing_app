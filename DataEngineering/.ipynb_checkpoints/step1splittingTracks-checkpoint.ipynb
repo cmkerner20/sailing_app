{
 "cells": [
  {
   "cell_type": "code",
   "execution_count": 1,
   "metadata": {},
   "outputs": [],
   "source": [
    "import warnings\n",
    "warnings.filterwarnings('ignore')"
   ]
  },
  {
   "cell_type": "code",
   "execution_count": 12,
   "metadata": {},
   "outputs": [],
   "source": [
    "import pandas as pd\n",
    "import numpy as np\n",
    "import matplotlib.pyplot as plt\n",
    "import glob\n",
    "\n",
    "from sklearn.preprocessing import StandardScaler\n",
    "from torchtext import data\n",
    "\n",
    "from sklearn.model_selection import train_test_split\n",
    "from sklearn.ensemble import RandomForestClassifier\n",
    "\n",
    "from collections import Counter"
   ]
  },
  {
   "cell_type": "code",
   "execution_count": 144,
   "metadata": {},
   "outputs": [],
   "source": [
    "path= '/Users/tancredicp/Desktop/sailing_app/data/ML Training Resources/'\n",
    "all_files = glob.glob(path + \"/*.csv\")\n",
    "\n",
    "# tracks that are a bit messy\n",
    "files_to_ignore = [\"MLData90.csv\", \"MLData91.csv\", \"MLData88.csv\", \"MLData89.csv\"]\n",
    "\n",
    "Data = [] \n",
    "for filename in all_files:\n",
    "    filenameShort = filename.split(\"/\")[-1]\n",
    "    if filenameShort not in files_to_ignore:\n",
    "        dfSpecific = pd.read_csv(filename, index_col=None, header=0)\n",
    "        dfSpecific.fillna(0, inplace= True)\n",
    "        \n",
    "\n",
    "        #Remove Rows that Are Nan or Chilling \n",
    "        dfSpecificLabelled = dfSpecific[dfSpecific['tag'] != '0']\n",
    "        dfSpecificLabelled = dfSpecificLabelled[dfSpecificLabelled['tag'] != 'C']\n",
    "    \n",
    "        #Split into dataFrames of Consecutive Points\n",
    "        dfListAll = np.split(dfSpecificLabelled, np.flatnonzero(np.diff(dfSpecificLabelled.index) != 1) + 1)\n",
    "        \n",
    "        #only keep dataframes if there are more than 30 points\n",
    "        # TODO perhaps improve based on time \n",
    "        dfListOnlyLong = []\n",
    "        for section in dfListAll:\n",
    "            if section.shape[0] > 30:\n",
    "                dfListOnlyLong.append(section)\n",
    "        \n",
    "        # Add a data point to middle sections so when first point is deleted \n",
    "        # due to calcualtions you are losing a first point\n",
    "        \n",
    "        dfListComplete = []\n",
    "        for section in dfListOnlyLong:\n",
    "            first_index = section.index[0]\n",
    "            if first_index < 1:\n",
    "                newest_list.append(section)\n",
    "                continue\n",
    "            else:    \n",
    "                index_to_fetch = first_index - 1\n",
    "                row_fetched = dfSpecific[index_to_fetch : first_index]\n",
    "                adjustedSection = pd.concat([row_fetched, section])\n",
    "                dfListComplete.append(adjustedSection)\n",
    "                \n",
    "        #save each section as a file\n",
    "        for c, section in enumerate(dfListComplete):\n",
    "            section.to_csv('/Users/tancredicp/Desktop/sailing_app/data/MLRestricted/' + filenameShort + str(c))\n",
    "        \n",
    "        \n",
    "    "
   ]
  },
  {
   "cell_type": "code",
   "execution_count": null,
   "metadata": {},
   "outputs": [],
   "source": []
  }
 ],
 "metadata": {
  "kernelspec": {
   "display_name": "Python 3",
   "language": "python",
   "name": "python3"
  },
  "language_info": {
   "codemirror_mode": {
    "name": "ipython",
    "version": 3
   },
   "file_extension": ".py",
   "mimetype": "text/x-python",
   "name": "python",
   "nbconvert_exporter": "python",
   "pygments_lexer": "ipython3",
   "version": "3.7.7"
  }
 },
 "nbformat": 4,
 "nbformat_minor": 4
}
