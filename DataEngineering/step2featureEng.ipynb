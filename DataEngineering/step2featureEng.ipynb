{
 "cells": [
  {
   "cell_type": "code",
   "execution_count": 1,
   "metadata": {},
   "outputs": [],
   "source": [
    "import warnings\n",
    "warnings.filterwarnings('ignore')"
   ]
  },
  {
   "cell_type": "code",
   "execution_count": 26,
   "metadata": {},
   "outputs": [],
   "source": [
    "import pandas as pd\n",
    "import numpy as np\n",
    "import matplotlib.pyplot as plt\n",
    "import glob\n",
    "\n",
    "from sklearn.preprocessing import StandardScaler\n",
    "from torchtext import data\n",
    "\n",
    "from sklearn.model_selection import train_test_split\n",
    "from sklearn.ensemble import RandomForestClassifier\n",
    "from sklearn.decomposition import PCA\n",
    "\n",
    "from collections import Counter"
   ]
  },
  {
   "cell_type": "code",
   "execution_count": 92,
   "metadata": {},
   "outputs": [],
   "source": [
    "\n",
    "# this needs to be cleaned up and data can be grouped in a more efficient way \n",
    "\n",
    "path= '/Users/tancredicp/Desktop/sailing_app/data/MLRestricted'\n",
    "all_files = glob.glob(path + \"/*.csv\")\n",
    "\n",
    "\n",
    "Data = []\n",
    "for filename in all_files:\n",
    "    \n",
    "    roll_param = '5s'\n",
    "    offset =  1\n",
    "    \n",
    "    \n",
    "    #read file \n",
    "    dfSpecific = pd.read_csv(filename, index_col=None, header=0)\n",
    "    dfSpecific.fillna(0, inplace= True)\n",
    "    dfSpecific['time'] = pd.to_datetime(dfSpecific['time']).dt.tz_localize(None)\n",
    "    \n",
    "    \n",
    "    #differentiating nominal values \n",
    "    \n",
    "    #calculate acceleration\n",
    "    dv = dfSpecific['sog'].diff() / dfSpecific['time'].diff().dt.total_seconds()\n",
    "    \n",
    "    #calculate dtheta/dt\n",
    "    #formule required to deal with the fact data comes in form of -1 to 1\n",
    "    dtheta = dfSpecific['cog'].diff().abs()  \n",
    "    dtheta = [2-i if i > 1 else  i for i in dtheta]\n",
    "    dtheta = dtheta / dfSpecific['time'].diff().dt.total_seconds()\n",
    "    \n",
    "    \n",
    "\n",
    "    \n",
    "    #adding rolling windows \n",
    "    \n",
    "    dfFeatures = dfSpecific[['sog', 'time']]\n",
    "    \n",
    "\n",
    "    # acceleration\n",
    "    dfFeatures['a'] = dv\n",
    "    #dfFeatures[['sogDelta']].rolling(roll_param1, center = True).mean()\n",
    "    dfFeatures['aR'] =  dfFeatures.set_index('time', drop=True)[['a']].rolling(roll_param).mean()\n",
    "    dfFeatures['aR'].fillna(dfFeatures['a'], inplace=True)\n",
    "\n",
    "    #\n",
    "    dfFeatures['dtheta'] = dtheta\n",
    "    dfFeatures['dthetaR'] = dfFeatures.set_index('time', drop=True)[['dtheta']].rolling(roll_param).mean()\n",
    "    dfFeatures['dthetaR'].fillna(dfFeatures['dtheta'], inplace=True)\n",
    "    \n",
    "    dfFeatures.drop(columns = 'time', inplace = True)\n",
    "    \n",
    "    \n",
    "    #standardizing \n",
    "    \n",
    "#     scaler = StandardScaler()\n",
    "#     arrayFeaturesScaled = scaler.fit_transform(dfFeatures)\n",
    "    \n",
    "    \n",
    "    \n",
    "    dfFeatures =  dfFeatures #pd.DataFrame(arrayFeaturesScaled, columns=dfFeatures.columns)\n",
    "    \n",
    "    \n",
    "    #drop first value since there will be nans for delta fields\n",
    "    dfFeatures = dfFeatures[1:]\n",
    "    \n",
    "    #tags\n",
    "    \n",
    "    dfTag = dfSpecific[['tag']][1:]\n",
    "    dfTag.fillna(0, inplace= True)\n",
    "    \n",
    "    TAGS = data.Field(unk_token = None)\n",
    "    TAGS.build_vocab(['A','B','D','G','S','T'])\n",
    "    dfTag['tag'] = np.array(TAGS.numericalize((np.array(dfTag['tag']))))[0]\n",
    "    \n",
    "    dfFeatures['tag'] =  dfTag['tag']\n",
    "    \n",
    "    \n",
    "    Data.append(dfFeatures)"
   ]
  },
  {
   "cell_type": "code",
   "execution_count": 93,
   "metadata": {},
   "outputs": [],
   "source": [
    "MasterFrame = pd.concat(Data)"
   ]
  },
  {
   "cell_type": "code",
   "execution_count": 94,
   "metadata": {},
   "outputs": [
    {
     "data": {
      "text/html": [
       "<div>\n",
       "<style scoped>\n",
       "    .dataframe tbody tr th:only-of-type {\n",
       "        vertical-align: middle;\n",
       "    }\n",
       "\n",
       "    .dataframe tbody tr th {\n",
       "        vertical-align: top;\n",
       "    }\n",
       "\n",
       "    .dataframe thead th {\n",
       "        text-align: right;\n",
       "    }\n",
       "</style>\n",
       "<table border=\"1\" class=\"dataframe\">\n",
       "  <thead>\n",
       "    <tr style=\"text-align: right;\">\n",
       "      <th></th>\n",
       "      <th>sog</th>\n",
       "      <th>a</th>\n",
       "      <th>aR</th>\n",
       "      <th>dtheta</th>\n",
       "      <th>dthetaR</th>\n",
       "      <th>tag</th>\n",
       "    </tr>\n",
       "  </thead>\n",
       "  <tbody>\n",
       "    <tr>\n",
       "      <th>count</th>\n",
       "      <td>39017.000000</td>\n",
       "      <td>39017.000000</td>\n",
       "      <td>39017.000000</td>\n",
       "      <td>39017.000000</td>\n",
       "      <td>39017.000000</td>\n",
       "      <td>39017.000000</td>\n",
       "    </tr>\n",
       "    <tr>\n",
       "      <th>mean</th>\n",
       "      <td>9.378433</td>\n",
       "      <td>0.007212</td>\n",
       "      <td>0.007212</td>\n",
       "      <td>0.018968</td>\n",
       "      <td>0.018968</td>\n",
       "      <td>4.791373</td>\n",
       "    </tr>\n",
       "    <tr>\n",
       "      <th>std</th>\n",
       "      <td>3.025025</td>\n",
       "      <td>0.583446</td>\n",
       "      <td>0.583446</td>\n",
       "      <td>0.025342</td>\n",
       "      <td>0.025342</td>\n",
       "      <td>0.821833</td>\n",
       "    </tr>\n",
       "    <tr>\n",
       "      <th>min</th>\n",
       "      <td>0.330000</td>\n",
       "      <td>-5.410000</td>\n",
       "      <td>-5.410000</td>\n",
       "      <td>0.000000</td>\n",
       "      <td>0.000000</td>\n",
       "      <td>1.000000</td>\n",
       "    </tr>\n",
       "    <tr>\n",
       "      <th>25%</th>\n",
       "      <td>7.450000</td>\n",
       "      <td>-0.270000</td>\n",
       "      <td>-0.270000</td>\n",
       "      <td>0.005556</td>\n",
       "      <td>0.005556</td>\n",
       "      <td>5.000000</td>\n",
       "    </tr>\n",
       "    <tr>\n",
       "      <th>50%</th>\n",
       "      <td>8.680000</td>\n",
       "      <td>0.000000</td>\n",
       "      <td>0.000000</td>\n",
       "      <td>0.011111</td>\n",
       "      <td>0.011111</td>\n",
       "      <td>5.000000</td>\n",
       "    </tr>\n",
       "    <tr>\n",
       "      <th>75%</th>\n",
       "      <td>11.230000</td>\n",
       "      <td>0.280000</td>\n",
       "      <td>0.280000</td>\n",
       "      <td>0.022222</td>\n",
       "      <td>0.022222</td>\n",
       "      <td>5.000000</td>\n",
       "    </tr>\n",
       "    <tr>\n",
       "      <th>max</th>\n",
       "      <td>19.810000</td>\n",
       "      <td>3.510000</td>\n",
       "      <td>3.510000</td>\n",
       "      <td>0.527778</td>\n",
       "      <td>0.527778</td>\n",
       "      <td>6.000000</td>\n",
       "    </tr>\n",
       "  </tbody>\n",
       "</table>\n",
       "</div>"
      ],
      "text/plain": [
       "                sog             a            aR        dtheta       dthetaR  \\\n",
       "count  39017.000000  39017.000000  39017.000000  39017.000000  39017.000000   \n",
       "mean       9.378433      0.007212      0.007212      0.018968      0.018968   \n",
       "std        3.025025      0.583446      0.583446      0.025342      0.025342   \n",
       "min        0.330000     -5.410000     -5.410000      0.000000      0.000000   \n",
       "25%        7.450000     -0.270000     -0.270000      0.005556      0.005556   \n",
       "50%        8.680000      0.000000      0.000000      0.011111      0.011111   \n",
       "75%       11.230000      0.280000      0.280000      0.022222      0.022222   \n",
       "max       19.810000      3.510000      3.510000      0.527778      0.527778   \n",
       "\n",
       "                tag  \n",
       "count  39017.000000  \n",
       "mean       4.791373  \n",
       "std        0.821833  \n",
       "min        1.000000  \n",
       "25%        5.000000  \n",
       "50%        5.000000  \n",
       "75%        5.000000  \n",
       "max        6.000000  "
      ]
     },
     "execution_count": 94,
     "metadata": {},
     "output_type": "execute_result"
    }
   ],
   "source": [
    "MasterFrame.describe()"
   ]
  },
  {
   "cell_type": "code",
   "execution_count": 95,
   "metadata": {},
   "outputs": [
    {
     "data": {
      "text/plain": [
       "101    0.005556\n",
       "102    0.005556\n",
       "103    0.022222\n",
       "104    0.011111\n",
       "105    0.000000\n",
       "106    0.005556\n",
       "107    0.005556\n",
       "108    0.000000\n",
       "109    0.022222\n",
       "110    0.005556\n",
       "Name: dtheta, dtype: float64"
      ]
     },
     "execution_count": 95,
     "metadata": {},
     "output_type": "execute_result"
    }
   ],
   "source": [
    "MasterFrame['dtheta'][100:110]"
   ]
  },
  {
   "cell_type": "code",
   "execution_count": 96,
   "metadata": {},
   "outputs": [
    {
     "data": {
      "text/plain": [
       "sog        0\n",
       "a          0\n",
       "aR         0\n",
       "dtheta     0\n",
       "dthetaR    0\n",
       "tag        0\n",
       "dtype: int64"
      ]
     },
     "execution_count": 96,
     "metadata": {},
     "output_type": "execute_result"
    }
   ],
   "source": [
    "MasterFrame.isna().sum()"
   ]
  },
  {
   "cell_type": "code",
   "execution_count": 97,
   "metadata": {},
   "outputs": [],
   "source": [
    "X = MasterFrame[['sog', 'a', 'aR', 'dtheta', 'dthetaR']]\n",
    "y = MasterFrame[['tag']]"
   ]
  },
  {
   "cell_type": "code",
   "execution_count": 98,
   "metadata": {},
   "outputs": [],
   "source": [
    "X_train, X_test, y_train, y_test = train_test_split(X,y, random_state = 3, test_size = 0.5, shuffle = False)"
   ]
  },
  {
   "cell_type": "code",
   "execution_count": 100,
   "metadata": {},
   "outputs": [
    {
     "data": {
      "text/plain": [
       "(0.9754972319048596, 0.852580860115844)"
      ]
     },
     "execution_count": 100,
     "metadata": {},
     "output_type": "execute_result"
    }
   ],
   "source": [
    "RFC = RandomForestClassifier(n_estimators= 100)\n",
    "RFC.fit(X_train,y_train)\n",
    "RFC.score(X_train, y_train), RFC.score(X_test, y_test)"
   ]
  },
  {
   "cell_type": "code",
   "execution_count": 101,
   "metadata": {},
   "outputs": [
    {
     "data": {
      "text/plain": [
       "<matplotlib.legend.Legend at 0x134ec9e90>"
      ]
     },
     "execution_count": 101,
     "metadata": {},
     "output_type": "execute_result"
    },
    {
     "data": {
      "image/png": "[encoded data removed]",
      "text/plain": [
       "<Figure size 504x360 with 1 Axes>"
      ]
     },
     "metadata": {
      "needs_background": "light"
     },
     "output_type": "display_data"
    }
   ],
   "source": [
    "fig, ax = plt.subplots(figsize = (7,5))\n",
    "\n",
    "\n",
    "c = MasterFrame['tag']\n",
    "pca = PCA()\n",
    "array = pca.fit_transform(X)\n",
    "scatter = ax.scatter(array[:,1], array[:,2], c=c, cmap = 'rainbow', alpha = 0.1, label = c)\n",
    "legend1 = ax.legend(*scatter.legend_elements(),\n",
    "                    loc=\"lower left\", title=\"Classes\")\n",
    "ax.add_artist(legend1)"
   ]
  },
  {
   "cell_type": "code",
   "execution_count": 60,
   "metadata": {},
   "outputs": [
    {
     "data": {
      "text/html": [
       "<div>\n",
       "<style scoped>\n",
       "    .dataframe tbody tr th:only-of-type {\n",
       "        vertical-align: middle;\n",
       "    }\n",
       "\n",
       "    .dataframe tbody tr th {\n",
       "        vertical-align: top;\n",
       "    }\n",
       "\n",
       "    .dataframe thead th {\n",
       "        text-align: right;\n",
       "    }\n",
       "</style>\n",
       "<table border=\"1\" class=\"dataframe\">\n",
       "  <thead>\n",
       "    <tr style=\"text-align: right;\">\n",
       "      <th></th>\n",
       "      <th>sog</th>\n",
       "      <th>sogDelta</th>\n",
       "      <th>sogDeltaRoll</th>\n",
       "      <th>cogDelta</th>\n",
       "      <th>cogDeltaRoll</th>\n",
       "      <th>tag</th>\n",
       "    </tr>\n",
       "  </thead>\n",
       "  <tbody>\n",
       "    <tr>\n",
       "      <th>1</th>\n",
       "      <td>-1.292945</td>\n",
       "      <td>-0.028928</td>\n",
       "      <td>-0.028928</td>\n",
       "      <td>-0.414145</td>\n",
       "      <td>-0.414145</td>\n",
       "      <td>5</td>\n",
       "    </tr>\n",
       "    <tr>\n",
       "      <th>2</th>\n",
       "      <td>-1.803548</td>\n",
       "      <td>-0.871056</td>\n",
       "      <td>-0.871056</td>\n",
       "      <td>0.505397</td>\n",
       "      <td>0.505397</td>\n",
       "      <td>5</td>\n",
       "    </tr>\n",
       "    <tr>\n",
       "      <th>3</th>\n",
       "      <td>-1.675897</td>\n",
       "      <td>0.181604</td>\n",
       "      <td>0.181604</td>\n",
       "      <td>-0.414145</td>\n",
       "      <td>-0.414145</td>\n",
       "      <td>5</td>\n",
       "    </tr>\n",
       "    <tr>\n",
       "      <th>4</th>\n",
       "      <td>-1.037644</td>\n",
       "      <td>1.023732</td>\n",
       "      <td>1.023732</td>\n",
       "      <td>1.424939</td>\n",
       "      <td>1.424939</td>\n",
       "      <td>5</td>\n",
       "    </tr>\n",
       "    <tr>\n",
       "      <th>5</th>\n",
       "      <td>-0.399392</td>\n",
       "      <td>1.023732</td>\n",
       "      <td>1.023732</td>\n",
       "      <td>0.505397</td>\n",
       "      <td>0.505397</td>\n",
       "      <td>5</td>\n",
       "    </tr>\n",
       "    <tr>\n",
       "      <th>...</th>\n",
       "      <td>...</td>\n",
       "      <td>...</td>\n",
       "      <td>...</td>\n",
       "      <td>...</td>\n",
       "      <td>...</td>\n",
       "      <td>...</td>\n",
       "    </tr>\n",
       "    <tr>\n",
       "      <th>43</th>\n",
       "      <td>0.463515</td>\n",
       "      <td>-0.528591</td>\n",
       "      <td>-0.528591</td>\n",
       "      <td>-0.420988</td>\n",
       "      <td>-0.420988</td>\n",
       "      <td>5</td>\n",
       "    </tr>\n",
       "    <tr>\n",
       "      <th>44</th>\n",
       "      <td>0.290598</td>\n",
       "      <td>-0.399866</td>\n",
       "      <td>-0.399866</td>\n",
       "      <td>-0.420988</td>\n",
       "      <td>-0.420988</td>\n",
       "      <td>5</td>\n",
       "    </tr>\n",
       "    <tr>\n",
       "      <th>45</th>\n",
       "      <td>0.405876</td>\n",
       "      <td>0.243754</td>\n",
       "      <td>0.243754</td>\n",
       "      <td>-0.279150</td>\n",
       "      <td>-0.279150</td>\n",
       "      <td>5</td>\n",
       "    </tr>\n",
       "    <tr>\n",
       "      <th>46</th>\n",
       "      <td>0.002402</td>\n",
       "      <td>-0.914763</td>\n",
       "      <td>-0.914763</td>\n",
       "      <td>-0.137312</td>\n",
       "      <td>-0.137312</td>\n",
       "      <td>5</td>\n",
       "    </tr>\n",
       "    <tr>\n",
       "      <th>47</th>\n",
       "      <td>-0.112877</td>\n",
       "      <td>-0.271142</td>\n",
       "      <td>-0.271142</td>\n",
       "      <td>-0.137312</td>\n",
       "      <td>-0.137312</td>\n",
       "      <td>5</td>\n",
       "    </tr>\n",
       "  </tbody>\n",
       "</table>\n",
       "<p>39017 rows × 6 columns</p>\n",
       "</div>"
      ],
      "text/plain": [
       "         sog  sogDelta  sogDeltaRoll  cogDelta  cogDeltaRoll  tag\n",
       "1  -1.292945 -0.028928     -0.028928 -0.414145     -0.414145    5\n",
       "2  -1.803548 -0.871056     -0.871056  0.505397      0.505397    5\n",
       "3  -1.675897  0.181604      0.181604 -0.414145     -0.414145    5\n",
       "4  -1.037644  1.023732      1.023732  1.424939      1.424939    5\n",
       "5  -0.399392  1.023732      1.023732  0.505397      0.505397    5\n",
       "..       ...       ...           ...       ...           ...  ...\n",
       "43  0.463515 -0.528591     -0.528591 -0.420988     -0.420988    5\n",
       "44  0.290598 -0.399866     -0.399866 -0.420988     -0.420988    5\n",
       "45  0.405876  0.243754      0.243754 -0.279150     -0.279150    5\n",
       "46  0.002402 -0.914763     -0.914763 -0.137312     -0.137312    5\n",
       "47 -0.112877 -0.271142     -0.271142 -0.137312     -0.137312    5\n",
       "\n",
       "[39017 rows x 6 columns]"
      ]
     },
     "execution_count": 60,
     "metadata": {},
     "output_type": "execute_result"
    }
   ],
   "source": [
    "MasterFrame"
   ]
  },
  {
   "cell_type": "code",
   "execution_count": null,
   "metadata": {},
   "outputs": [],
   "source": []
  }
 ],
 "metadata": {
  "kernelspec": {
   "display_name": "Python 3",
   "language": "python",
   "name": "python3"
  },
  "language_info": {
   "codemirror_mode": {
    "name": "ipython",
    "version": 3
   },
   "file_extension": ".py",
   "mimetype": "text/x-python",
   "name": "python",
   "nbconvert_exporter": "python",
   "pygments_lexer": "ipython3",
   "version": "3.7.7"
  }
 },
 "nbformat": 4,
 "nbformat_minor": 4
}
