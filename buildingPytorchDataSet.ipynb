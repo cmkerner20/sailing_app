{
 "cells": [
  {
   "cell_type": "markdown",
   "metadata": {},
   "source": [
    "building the iterator is almost as hard as building the model.."
   ]
  },
  {
   "cell_type": "code",
   "execution_count": 7,
   "metadata": {},
   "outputs": [],
   "source": [
    "import pandas as pd\n",
    "import matplotlib.pyplot as plt \n",
    "import numpy as np\n",
    "import glob\n",
    "\n",
    "from torchtext import data\n",
    "\n",
    "\n",
    "from sklearn.preprocessing import StandardScaler\n",
    "from sklearn.decomposition import PCA\n",
    "\n",
    "# df['tag'] = df['tag'].map({'0': '0', 'S': '1', 'C': '2', 'G': '3', 'T': '4', 'B': '5','D': '6' })"
   ]
  },
  {
   "cell_type": "code",
   "execution_count": 3,
   "metadata": {},
   "outputs": [],
   "source": [
    "# !pip3 install sklearn"
   ]
  },
  {
   "cell_type": "code",
   "execution_count": 4,
   "metadata": {},
   "outputs": [
    {
     "name": "stdout",
     "output_type": "stream",
     "text": [
      "(3594, 12)\n",
      "(2941, 12)\n",
      "(2796, 12)\n",
      "(528, 12)\n",
      "(976, 12)\n",
      "(11838, 12)\n",
      "(7084, 12)\n",
      "(5679, 12)\n",
      "(3508, 12)\n",
      "(7084, 12)\n",
      "(2283, 12)\n",
      "(2498, 12)\n",
      "(2515, 12)\n",
      "(2421, 12)\n",
      "(3150, 12)\n",
      "(2770, 12)\n",
      "(3154, 12)\n",
      "(3170, 12)\n",
      "(2949, 12)\n",
      "(3342, 12)\n",
      "(2986, 12)\n",
      "(3409, 12)\n",
      "(3360, 12)\n",
      "(2283, 12)\n"
     ]
    }
   ],
   "source": [
    "path= '/Users/tancredicp/Desktop/sailing_app/data/ML Training Resources/'\n",
    "all_files = glob.glob(path + \"/*.csv\")\n",
    "\n",
    "\n",
    "# listOfNormalizedDatFrames = []\n",
    "# listofTags = []\n",
    "\n",
    "Data = []\n",
    "\n",
    "counter = -1\n",
    "\n",
    "for filename in all_files:\n",
    "    temporary_dict = {}\n",
    "\n",
    "    \n",
    "    \n",
    "    dfSpecific = pd.read_csv(filename, index_col=None, header=0)\n",
    "    print(dfSpecific.shape)\n",
    "    #I was lazy and did not check where the NaNs where but they were being annoying so made them all 0s.\n",
    "    dfSpecific.fillna(0, inplace= True)\n",
    "    \n",
    "    dfSpecificY = dfSpecific[['tag']]\n",
    "    dfSpecificY = dfSpecificY['tag'] #.astype('category')\n",
    "    temporary_dict['tags'] = np.array(dfSpecificY)\n",
    "    \n",
    "\n",
    "    \n",
    "    dfSpecificX = dfSpecific.drop(columns=['tag', 'tag_name', 'boat_class', 'time'])\n",
    "    scaler = StandardScaler()\n",
    "    columnsBeingStandardize = ['lat', 'lon', 'sog', 'heel', 'clew_load','pitch']\n",
    "    dfSpecificX[columnsBeingStandardize] = scaler.fit_transform(dfSpecificX[columnsBeingStandardize])\n",
    "    \n",
    "    \n",
    "    array1 = np.array(dfSpecificX[['lat', 'lon', 'sog', 'cog']])\n",
    "    \n",
    "    temporary_dict['track'] = array1\n",
    "    \n",
    "    Data.append(temporary_dict)\n",
    "    \n",
    "#     listOfNormalizedDatFrames[counter] = array1\n",
    "    \n",
    "#     break\n",
    "\n",
    "# X = pd.concat(listOfNormalizedDatFrames, axis=0, ignore_index=True)\n",
    "# y = pd.concat(listofTags, axis=0, ignore_index=True)"
   ]
  },
  {
   "cell_type": "code",
   "execution_count": 6,
   "metadata": {},
   "outputs": [],
   "source": [
    "# Data"
   ]
  },
  {
   "cell_type": "code",
   "execution_count": null,
   "metadata": {},
   "outputs": [],
   "source": []
  },
  {
   "cell_type": "code",
   "execution_count": null,
   "metadata": {},
   "outputs": [],
   "source": []
  },
  {
   "cell_type": "code",
   "execution_count": 12,
   "metadata": {},
   "outputs": [],
   "source": [
    "from torch.utils.data import Dataset\n",
    "# from torch.utils.data import Buc\n",
    "\n",
    "# dataset = tf.data.Dataset.from_tensor_slices((images, labels))\n",
    "# dataset"
   ]
  },
  {
   "cell_type": "code",
   "execution_count": 13,
   "metadata": {},
   "outputs": [],
   "source": [
    "class SailingData(Dataset):\n",
    "    def __init__ (self, pl):\n",
    "        self.samples = []\n",
    "        \n",
    "        for d in pl:\n",
    "            self.samples.append((d['track'], d['tags']))\n",
    "            \n",
    "    def __len__(self):\n",
    "        return len(self.samples)\n",
    "    \n",
    "    def __getitem__(self, idx):\n",
    "            return(self.samples[idx])\n",
    "        \n",
    "        \n",
    "    \n",
    "        \n",
    "    "
   ]
  },
  {
   "cell_type": "code",
   "execution_count": 19,
   "metadata": {},
   "outputs": [],
   "source": [
    "BATCH_SIZE = 1\n",
    "Datz = SailingData(Data)"
   ]
  },
  {
   "cell_type": "code",
   "execution_count": 15,
   "metadata": {},
   "outputs": [
    {
     "data": {
      "text/plain": [
       "(array([[ 0.51690643, -0.51615816,  1.37163749, -0.3       ],\n",
       "        [ 0.5261856 , -0.53723416,  1.51186259, -0.31111111],\n",
       "        [ 0.53623804, -0.55701318,  1.45577255, -0.27222222],\n",
       "        ...,\n",
       "        [ 0.99555713, -1.3452558 , -1.19124586, -0.36666667],\n",
       "        [ 0.99555713, -1.34752553, -1.14594237, -0.41666667],\n",
       "        [ 0.99581488, -1.34979525, -1.16967277, -0.43888889]]),\n",
       " array(['S', 'S', 'S', ..., 'C', 'C', 'C'], dtype=object))"
      ]
     },
     "execution_count": 15,
     "metadata": {},
     "output_type": "execute_result"
    }
   ],
   "source": [
    "Datz.__getitem__(0)"
   ]
  },
  {
   "cell_type": "code",
   "execution_count": 20,
   "metadata": {},
   "outputs": [
    {
     "ename": "AttributeError",
     "evalue": "'SailingData' object has no attribute 'sort_key'",
     "output_type": "error",
     "traceback": [
      "\u001b[0;31m---------------------------------------------------------------------------\u001b[0m",
      "\u001b[0;31mAttributeError\u001b[0m                            Traceback (most recent call last)",
      "\u001b[0;32m<ipython-input-20-ae67efd0a194>\u001b[0m in \u001b[0;36m<module>\u001b[0;34m\u001b[0m\n\u001b[1;32m      1\u001b[0m train_iterator = data.BucketIterator(\n\u001b[1;32m      2\u001b[0m     \u001b[0mDatz\u001b[0m\u001b[0;34m,\u001b[0m\u001b[0;34m\u001b[0m\u001b[0;34m\u001b[0m\u001b[0m\n\u001b[0;32m----> 3\u001b[0;31m     batch_size = BATCH_SIZE)\n\u001b[0m",
      "\u001b[0;32m~/Desktop/sailing_env/sailing/lib/python3.7/site-packages/torchtext/data/iterator.py\u001b[0m in \u001b[0;36m__init__\u001b[0;34m(self, dataset, batch_size, sort_key, device, batch_size_fn, train, repeat, shuffle, sort, sort_within_batch)\u001b[0m\n\u001b[1;32m     59\u001b[0m             \u001b[0mself\u001b[0m\u001b[0;34m.\u001b[0m\u001b[0msort_within_batch\u001b[0m \u001b[0;34m=\u001b[0m \u001b[0msort_within_batch\u001b[0m\u001b[0;34m\u001b[0m\u001b[0;34m\u001b[0m\u001b[0m\n\u001b[1;32m     60\u001b[0m         \u001b[0;32mif\u001b[0m \u001b[0msort_key\u001b[0m \u001b[0;32mis\u001b[0m \u001b[0;32mNone\u001b[0m\u001b[0;34m:\u001b[0m\u001b[0;34m\u001b[0m\u001b[0;34m\u001b[0m\u001b[0m\n\u001b[0;32m---> 61\u001b[0;31m             \u001b[0mself\u001b[0m\u001b[0;34m.\u001b[0m\u001b[0msort_key\u001b[0m \u001b[0;34m=\u001b[0m \u001b[0mdataset\u001b[0m\u001b[0;34m.\u001b[0m\u001b[0msort_key\u001b[0m\u001b[0;34m\u001b[0m\u001b[0;34m\u001b[0m\u001b[0m\n\u001b[0m\u001b[1;32m     62\u001b[0m         \u001b[0;32melse\u001b[0m\u001b[0;34m:\u001b[0m\u001b[0;34m\u001b[0m\u001b[0;34m\u001b[0m\u001b[0m\n\u001b[1;32m     63\u001b[0m             \u001b[0mself\u001b[0m\u001b[0;34m.\u001b[0m\u001b[0msort_key\u001b[0m \u001b[0;34m=\u001b[0m \u001b[0msort_key\u001b[0m\u001b[0;34m\u001b[0m\u001b[0;34m\u001b[0m\u001b[0m\n",
      "\u001b[0;31mAttributeError\u001b[0m: 'SailingData' object has no attribute 'sort_key'"
     ]
    }
   ],
   "source": [
    "train_iterator = data.BucketIterator(\n",
    "    Datz,\n",
    "    batch_size = BATCH_SIZE)"
   ]
  },
  {
   "cell_type": "code",
   "execution_count": null,
   "metadata": {},
   "outputs": [],
   "source": []
  }
 ],
 "metadata": {
  "kernelspec": {
   "display_name": "Python 3",
   "language": "python",
   "name": "python3"
  },
  "language_info": {
   "codemirror_mode": {
    "name": "ipython",
    "version": 3
   },
   "file_extension": ".py",
   "mimetype": "text/x-python",
   "name": "python",
   "nbconvert_exporter": "python",
   "pygments_lexer": "ipython3",
   "version": "3.7.7"
  }
 },
 "nbformat": 4,
 "nbformat_minor": 4
}
